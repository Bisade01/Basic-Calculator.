{
 "cells": [
  {
   "cell_type": "markdown",
   "id": "2a8bf24a",
   "metadata": {},
   "source": [
    "# Calculator"
   ]
  },
  {
   "cell_type": "code",
   "execution_count": 7,
   "id": "4961aebb",
   "metadata": {},
   "outputs": [
    {
     "name": "stdout",
     "output_type": "stream",
     "text": [
      " This program is a calculator that takes in numbers and performs any of the operations below:\n",
      "1) Addition\n",
      "2) Subtraction\n",
      "3) Multiplication\n",
      "4) Division\n",
      "\n",
      "Enter:\n",
      " '+' for Addition\n",
      " '-' for Subtraction\n",
      " '*' for Multiplication\n",
      " '/' for Divison\n",
      "*\n",
      "Enter frist number 45\n",
      "Enter second number 5\n",
      " 45 * 5 = 225\n"
     ]
    }
   ],
   "source": [
    "print (\" This program is a calculator that takes in numbers and performs any of the operations below:\\n1) Addition\\n2) Subtraction\\n3) Multiplication\\n4) Division\\n\")\n",
    "\n",
    "operation = input ( \"Enter:\\n '+' for Addition\\n '-' for Subtraction\\n '*' for Multiplication\\n '/' for Divison\\n\")\n",
    "\n",
    "x = int(input(\"Enter frist number \"))\n",
    "\n",
    "y = int(input(\"Enter second number \"))\n",
    "\n",
    "if operation == '+':\n",
    "    print (f' {x} + {y} = {x+y}')\n",
    "elif operation == '-':\n",
    "    print (f' {x} - {y} = {x-y}')\n",
    "elif operation == '/':\n",
    "    print (f' {x} / {y} = {x/y}')\n",
    "elif operation == '*':\n",
    "    print (f' {x} * {y} = {x*y}')\n",
    "else:\n",
    "    print (\" You entered the wrong command. Re-run this program\")"
   ]
  },
  {
   "cell_type": "code",
   "execution_count": null,
   "id": "ea9892b0",
   "metadata": {},
   "outputs": [],
   "source": []
  }
 ],
 "metadata": {
  "kernelspec": {
   "display_name": "Python 3 (ipykernel)",
   "language": "python",
   "name": "python3"
  },
  "language_info": {
   "codemirror_mode": {
    "name": "ipython",
    "version": 3
   },
   "file_extension": ".py",
   "mimetype": "text/x-python",
   "name": "python",
   "nbconvert_exporter": "python",
   "pygments_lexer": "ipython3",
   "version": "3.11.5"
  }
 },
 "nbformat": 4,
 "nbformat_minor": 5
}
